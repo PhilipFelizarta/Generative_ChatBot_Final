{
 "cells": [
  {
   "cell_type": "markdown",
   "metadata": {},
   "source": [
    "Preprocessing steps: \n",
    "\n",
    "- Standardizing whitespace (Gabe)\n",
    "- Remove punctuation (Gabe)\n",
    "- Remove/convert numbers (Gabe)\n",
    "- Convert to lowercase (Gabe)\n",
    "- Remove Stop words (Gabe)\n",
    "- Tokenization (Gabe)"
   ]
  },
  {
   "cell_type": "code",
   "execution_count": 1,
   "metadata": {},
   "outputs": [],
   "source": [
    "import pandas as pd\n",
    "import spacy "
   ]
  },
  {
   "cell_type": "code",
   "execution_count": null,
   "metadata": {},
   "outputs": [],
   "source": [
    "df = pd.read_csv()"
   ]
  },
  {
   "cell_type": "code",
   "execution_count": null,
   "metadata": {},
   "outputs": [],
   "source": [
    "nlp = spacy.load(\"en_core_web_sm\") # we neeed to consider changing this to md or lg "
   ]
  },
  {
   "cell_type": "markdown",
   "metadata": {},
   "source": [
    "Here I have functions for different preprocessing tasks, not an exhaustive list. \n",
    "\n",
    "Note that I am basing each function on the central dataframe, into which new columns will be generated (e.i. entities, pos tags, etc.)"
   ]
  },
  {
   "cell_type": "code",
   "execution_count": null,
   "metadata": {},
   "outputs": [],
   "source": [
    "def text_preprocessor(text):\n",
    "    \"\"\"puts text through pre-tokenization preprocessing steps\"\"\"\n",
    "    # Standardizing whitespace:\n",
    "    text = ' '.join(text.split()).replace('\\u00A0', ' ').strip()\n",
    "    \n",
    "    return text \n",
    "\n",
    "\n",
    "def tokenize(text):\n",
    "    \"\"\"Tokenizes text\"\"\"\n",
    "    doc = nlp(text)\n",
    "    return doc\n",
    "\n",
    "df['doc'] = df['claim'].apply(text_preprocessor).apply(tokenize)\n",
    "\n",
    "def entity_exctractor(doc):\n",
    "    \"\"\"Extracts named entities from the text\"\"\"\n",
    "    entities = [(ent.text, ent.label_) for ent in doc.ents]\n",
    "\n",
    "    return entities\n",
    "\n",
    "df['entities'] = df['doc'].apply(entity_exctractor)\n",
    "\n",
    "\n",
    "def pos_tagger(doc):\n",
    "    \"\"\"Extracts POS tags\"\"\"\n",
    "    pos_tags = [(token.text, token.pos_) for token in doc]\n",
    "    return pos_tags\n",
    "\n",
    "df['pos_tags'] = df['doc'].apply(pos_tagger) "
   ]
  }
 ],
 "metadata": {
  "kernelspec": {
   "display_name": "NLP_TF",
   "language": "python",
   "name": "python3"
  },
  "language_info": {
   "codemirror_mode": {
    "name": "ipython",
    "version": 3
   },
   "file_extension": ".py",
   "mimetype": "text/x-python",
   "name": "python",
   "nbconvert_exporter": "python",
   "pygments_lexer": "ipython3",
   "version": "3.9.18"
  }
 },
 "nbformat": 4,
 "nbformat_minor": 2
}
