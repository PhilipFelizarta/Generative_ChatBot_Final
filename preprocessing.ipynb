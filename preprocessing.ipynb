{
 "cells": [
  {
   "cell_type": "markdown",
   "metadata": {},
   "source": [
    "Preprocessing steps: \n",
    "\n",
    "- Convert to lowercase (Gabe)\n",
    "- Remove punctuation (Gabe)\n",
    "- Standardizing whitespace (Gabe)\n",
    "- Remove/convert numbers (Gabe)\n",
    "- Remove Stop words (Gabe)\n",
    "- Tokenization (Gabe)"
   ]
  },
  {
   "cell_type": "code",
   "execution_count": 1,
   "metadata": {},
   "outputs": [],
   "source": [
    "import pandas as pd\n",
    "import spacy \n",
    "from wordcloud import WordCloud\n",
    "import matplotlib.pyplot as plt\n",
    "import seaborn as sns\n",
    "from collections import Counter\n",
    "import re"
   ]
  },
  {
   "cell_type": "code",
   "execution_count": 2,
   "metadata": {},
   "outputs": [],
   "source": [
    "df = pd.read_csv(\"C:\\MSAAI\\AAI-520\\Generative_ChatBot_Final\\clean_dataset\\movie_lines.csv\")"
   ]
  },
  {
   "cell_type": "code",
   "execution_count": 3,
   "metadata": {},
   "outputs": [
    {
     "name": "stdout",
     "output_type": "stream",
     "text": [
      "<class 'pandas.core.frame.DataFrame'>\n",
      "RangeIndex: 304713 entries, 0 to 304712\n",
      "Data columns (total 5 columns):\n",
      " #   Column          Non-Null Count   Dtype \n",
      "---  ------          --------------   ----- \n",
      " 0   line_id         304713 non-null  object\n",
      " 1   character_id    304713 non-null  object\n",
      " 2   movie_id        304713 non-null  object\n",
      " 3   character_name  304670 non-null  object\n",
      " 4   line_text       304446 non-null  object\n",
      "dtypes: object(5)\n",
      "memory usage: 11.6+ MB\n"
     ]
    }
   ],
   "source": [
    "df.info()"
   ]
  },
  {
   "cell_type": "code",
   "execution_count": 4,
   "metadata": {},
   "outputs": [
    {
     "data": {
      "text/html": [
       "<div>\n",
       "<style scoped>\n",
       "    .dataframe tbody tr th:only-of-type {\n",
       "        vertical-align: middle;\n",
       "    }\n",
       "\n",
       "    .dataframe tbody tr th {\n",
       "        vertical-align: top;\n",
       "    }\n",
       "\n",
       "    .dataframe thead th {\n",
       "        text-align: right;\n",
       "    }\n",
       "</style>\n",
       "<table border=\"1\" class=\"dataframe\">\n",
       "  <thead>\n",
       "    <tr style=\"text-align: right;\">\n",
       "      <th></th>\n",
       "      <th>line_id</th>\n",
       "      <th>character_id</th>\n",
       "      <th>movie_id</th>\n",
       "      <th>character_name</th>\n",
       "      <th>line_text</th>\n",
       "    </tr>\n",
       "  </thead>\n",
       "  <tbody>\n",
       "    <tr>\n",
       "      <th>0</th>\n",
       "      <td>L1045</td>\n",
       "      <td>u0</td>\n",
       "      <td>m0</td>\n",
       "      <td>BIANCA</td>\n",
       "      <td>They do not!</td>\n",
       "    </tr>\n",
       "    <tr>\n",
       "      <th>1</th>\n",
       "      <td>L1044</td>\n",
       "      <td>u2</td>\n",
       "      <td>m0</td>\n",
       "      <td>CAMERON</td>\n",
       "      <td>They do to!</td>\n",
       "    </tr>\n",
       "    <tr>\n",
       "      <th>2</th>\n",
       "      <td>L985</td>\n",
       "      <td>u0</td>\n",
       "      <td>m0</td>\n",
       "      <td>BIANCA</td>\n",
       "      <td>I hope so.</td>\n",
       "    </tr>\n",
       "    <tr>\n",
       "      <th>3</th>\n",
       "      <td>L984</td>\n",
       "      <td>u2</td>\n",
       "      <td>m0</td>\n",
       "      <td>CAMERON</td>\n",
       "      <td>She okay?</td>\n",
       "    </tr>\n",
       "    <tr>\n",
       "      <th>4</th>\n",
       "      <td>L925</td>\n",
       "      <td>u0</td>\n",
       "      <td>m0</td>\n",
       "      <td>BIANCA</td>\n",
       "      <td>Let's go.</td>\n",
       "    </tr>\n",
       "  </tbody>\n",
       "</table>\n",
       "</div>"
      ],
      "text/plain": [
       "  line_id character_id movie_id character_name     line_text\n",
       "0   L1045           u0       m0         BIANCA  They do not!\n",
       "1   L1044           u2       m0        CAMERON   They do to!\n",
       "2    L985           u0       m0         BIANCA    I hope so.\n",
       "3    L984           u2       m0        CAMERON     She okay?\n",
       "4    L925           u0       m0         BIANCA     Let's go."
      ]
     },
     "execution_count": 4,
     "metadata": {},
     "output_type": "execute_result"
    }
   ],
   "source": [
    "df.head()"
   ]
  },
  {
   "cell_type": "markdown",
   "metadata": {},
   "source": [
    "Since we have NaN values. Lets decide what to do. For simplicity, at this time let's remove them.  "
   ]
  },
  {
   "cell_type": "code",
   "execution_count": 5,
   "metadata": {},
   "outputs": [
    {
     "name": "stdout",
     "output_type": "stream",
     "text": [
      "line_id             0\n",
      "character_id        0\n",
      "movie_id            0\n",
      "character_name     43\n",
      "line_text         267\n",
      "dtype: int64\n"
     ]
    }
   ],
   "source": [
    "print(df.isnull().sum())"
   ]
  },
  {
   "cell_type": "markdown",
   "metadata": {},
   "source": [
    "Checking to make sure there are NaN values based on the df['line_text'] column. "
   ]
  },
  {
   "cell_type": "code",
   "execution_count": 6,
   "metadata": {},
   "outputs": [],
   "source": [
    "df = df.dropna()"
   ]
  },
  {
   "cell_type": "code",
   "execution_count": 7,
   "metadata": {},
   "outputs": [
    {
     "name": "stdout",
     "output_type": "stream",
     "text": [
      "line_id           0\n",
      "character_id      0\n",
      "movie_id          0\n",
      "character_name    0\n",
      "line_text         0\n",
      "dtype: int64\n"
     ]
    }
   ],
   "source": [
    "print(df.isnull().sum())"
   ]
  },
  {
   "cell_type": "code",
   "execution_count": 8,
   "metadata": {},
   "outputs": [
    {
     "name": "stdout",
     "output_type": "stream",
     "text": [
      "<class 'pandas.core.frame.DataFrame'>\n",
      "Index: 304403 entries, 0 to 304712\n",
      "Data columns (total 5 columns):\n",
      " #   Column          Non-Null Count   Dtype \n",
      "---  ------          --------------   ----- \n",
      " 0   line_id         304403 non-null  object\n",
      " 1   character_id    304403 non-null  object\n",
      " 2   movie_id        304403 non-null  object\n",
      " 3   character_name  304403 non-null  object\n",
      " 4   line_text       304403 non-null  object\n",
      "dtypes: object(5)\n",
      "memory usage: 13.9+ MB\n"
     ]
    }
   ],
   "source": [
    "df.info()"
   ]
  },
  {
   "cell_type": "code",
   "execution_count": 9,
   "metadata": {},
   "outputs": [],
   "source": [
    "def text_cleaner(text):\n",
    "    \"\"\"puts a dataframe column filled with strings as its observations \n",
    "    through cleaning steps in prepatation for tokenization\"\"\"\n",
    "    \n",
    "    # Remove digits\n",
    "    text = re.sub(r'\\d', '', text)\n",
    "\n",
    "    # make all text lowercase:\n",
    "    text = text.lower()\n",
    "    \n",
    "    # Remove any non-alphanumeric characters, excluding whitespace:\n",
    "    text = re.sub('[^\\w\\s]', '', text)\n",
    "    \n",
    "    # Standardizing whitespace:\n",
    "    text = ' '.join(text.split()).replace('\\u00A0', ' ').strip()\n",
    "\n",
    "    return text \n",
    " "
   ]
  },
  {
   "cell_type": "code",
   "execution_count": 10,
   "metadata": {},
   "outputs": [
    {
     "data": {
      "text/plain": [
       "0                                              They do not!\n",
       "1                                               They do to!\n",
       "2                                                I hope so.\n",
       "3                                                 She okay?\n",
       "4                                                 Let's go.\n",
       "                                ...                        \n",
       "304708    Lord Chelmsford seems to want me to stay back ...\n",
       "304709    I'm to take the Sikali with the main column to...\n",
       "304710                             Your orders, Mr Vereker?\n",
       "304711    Good ones, yes, Mr Vereker. Gentlemen who can ...\n",
       "304712    Colonel Durnford... William Vereker. I hear yo...\n",
       "Name: line_text, Length: 304403, dtype: object"
      ]
     },
     "execution_count": 10,
     "metadata": {},
     "output_type": "execute_result"
    }
   ],
   "source": [
    "df['line_text']"
   ]
  },
  {
   "cell_type": "code",
   "execution_count": 11,
   "metadata": {},
   "outputs": [],
   "source": [
    "df['line_text'] = df['line_text'].apply(text_cleaner)"
   ]
  },
  {
   "cell_type": "code",
   "execution_count": 12,
   "metadata": {},
   "outputs": [
    {
     "data": {
      "text/html": [
       "<div>\n",
       "<style scoped>\n",
       "    .dataframe tbody tr th:only-of-type {\n",
       "        vertical-align: middle;\n",
       "    }\n",
       "\n",
       "    .dataframe tbody tr th {\n",
       "        vertical-align: top;\n",
       "    }\n",
       "\n",
       "    .dataframe thead th {\n",
       "        text-align: right;\n",
       "    }\n",
       "</style>\n",
       "<table border=\"1\" class=\"dataframe\">\n",
       "  <thead>\n",
       "    <tr style=\"text-align: right;\">\n",
       "      <th></th>\n",
       "      <th>line_id</th>\n",
       "      <th>character_id</th>\n",
       "      <th>movie_id</th>\n",
       "      <th>character_name</th>\n",
       "      <th>line_text</th>\n",
       "    </tr>\n",
       "  </thead>\n",
       "  <tbody>\n",
       "    <tr>\n",
       "      <th>0</th>\n",
       "      <td>L1045</td>\n",
       "      <td>u0</td>\n",
       "      <td>m0</td>\n",
       "      <td>BIANCA</td>\n",
       "      <td>they do not</td>\n",
       "    </tr>\n",
       "    <tr>\n",
       "      <th>1</th>\n",
       "      <td>L1044</td>\n",
       "      <td>u2</td>\n",
       "      <td>m0</td>\n",
       "      <td>CAMERON</td>\n",
       "      <td>they do to</td>\n",
       "    </tr>\n",
       "    <tr>\n",
       "      <th>2</th>\n",
       "      <td>L985</td>\n",
       "      <td>u0</td>\n",
       "      <td>m0</td>\n",
       "      <td>BIANCA</td>\n",
       "      <td>i hope so</td>\n",
       "    </tr>\n",
       "    <tr>\n",
       "      <th>3</th>\n",
       "      <td>L984</td>\n",
       "      <td>u2</td>\n",
       "      <td>m0</td>\n",
       "      <td>CAMERON</td>\n",
       "      <td>she okay</td>\n",
       "    </tr>\n",
       "    <tr>\n",
       "      <th>4</th>\n",
       "      <td>L925</td>\n",
       "      <td>u0</td>\n",
       "      <td>m0</td>\n",
       "      <td>BIANCA</td>\n",
       "      <td>lets go</td>\n",
       "    </tr>\n",
       "  </tbody>\n",
       "</table>\n",
       "</div>"
      ],
      "text/plain": [
       "  line_id character_id movie_id character_name    line_text\n",
       "0   L1045           u0       m0         BIANCA  they do not\n",
       "1   L1044           u2       m0        CAMERON   they do to\n",
       "2    L985           u0       m0         BIANCA    i hope so\n",
       "3    L984           u2       m0        CAMERON     she okay\n",
       "4    L925           u0       m0         BIANCA      lets go"
      ]
     },
     "execution_count": 12,
     "metadata": {},
     "output_type": "execute_result"
    }
   ],
   "source": [
    "df.head()"
   ]
  },
  {
   "cell_type": "code",
   "execution_count": 13,
   "metadata": {},
   "outputs": [
    {
     "name": "stdout",
     "output_type": "stream",
     "text": [
      "<class 'pandas.core.frame.DataFrame'>\n",
      "Index: 304403 entries, 0 to 304712\n",
      "Data columns (total 5 columns):\n",
      " #   Column          Non-Null Count   Dtype \n",
      "---  ------          --------------   ----- \n",
      " 0   line_id         304403 non-null  object\n",
      " 1   character_id    304403 non-null  object\n",
      " 2   movie_id        304403 non-null  object\n",
      " 3   character_name  304403 non-null  object\n",
      " 4   line_text       304403 non-null  object\n",
      "dtypes: object(5)\n",
      "memory usage: 13.9+ MB\n"
     ]
    }
   ],
   "source": [
    "df.info()"
   ]
  },
  {
   "cell_type": "code",
   "execution_count": 14,
   "metadata": {},
   "outputs": [
    {
     "name": "stdout",
     "output_type": "stream",
     "text": [
      "line_id           0\n",
      "character_id      0\n",
      "movie_id          0\n",
      "character_name    0\n",
      "line_text         0\n",
      "dtype: int64\n"
     ]
    }
   ],
   "source": [
    "print(df.isnull().sum())"
   ]
  },
  {
   "cell_type": "code",
   "execution_count": 15,
   "metadata": {},
   "outputs": [],
   "source": [
    "df.reset_index(drop=True, inplace=True)"
   ]
  },
  {
   "cell_type": "code",
   "execution_count": 16,
   "metadata": {},
   "outputs": [],
   "source": [
    "# save new CSV for Cleaned_Movie_Lines\n",
    "df.to_csv('cleaned_lines.csv', index=False)"
   ]
  },
  {
   "cell_type": "code",
   "execution_count": 18,
   "metadata": {},
   "outputs": [],
   "source": [
    "cleaned_lines_df_1 = pd.read_csv('C:\\\\MSAAI\\AAI-520\\\\Generative_ChatBot_Final\\\\cleaned_lines.csv')"
   ]
  },
  {
   "cell_type": "code",
   "execution_count": 19,
   "metadata": {},
   "outputs": [
    {
     "name": "stdout",
     "output_type": "stream",
     "text": [
      "line_id            0\n",
      "character_id       0\n",
      "movie_id           0\n",
      "character_name     0\n",
      "line_text         55\n",
      "dtype: int64\n"
     ]
    }
   ],
   "source": [
    "print(cleaned_lines_df_1.isnull().sum())"
   ]
  },
  {
   "cell_type": "code",
   "execution_count": 20,
   "metadata": {},
   "outputs": [
    {
     "name": "stdout",
     "output_type": "stream",
     "text": [
      "<class 'pandas.core.frame.DataFrame'>\n",
      "RangeIndex: 304403 entries, 0 to 304402\n",
      "Data columns (total 5 columns):\n",
      " #   Column          Non-Null Count   Dtype \n",
      "---  ------          --------------   ----- \n",
      " 0   line_id         304403 non-null  object\n",
      " 1   character_id    304403 non-null  object\n",
      " 2   movie_id        304403 non-null  object\n",
      " 3   character_name  304403 non-null  object\n",
      " 4   line_text       304348 non-null  object\n",
      "dtypes: object(5)\n",
      "memory usage: 11.6+ MB\n"
     ]
    }
   ],
   "source": [
    "cleaned_lines_df_1.info()"
   ]
  },
  {
   "cell_type": "code",
   "execution_count": 21,
   "metadata": {},
   "outputs": [],
   "source": [
    "df1 = cleaned_lines_df_1.dropna()"
   ]
  },
  {
   "cell_type": "code",
   "execution_count": 22,
   "metadata": {},
   "outputs": [],
   "source": [
    "df1.reset_index(drop=True, inplace=True)"
   ]
  },
  {
   "cell_type": "code",
   "execution_count": 23,
   "metadata": {},
   "outputs": [
    {
     "name": "stdout",
     "output_type": "stream",
     "text": [
      "<class 'pandas.core.frame.DataFrame'>\n",
      "RangeIndex: 304348 entries, 0 to 304347\n",
      "Data columns (total 5 columns):\n",
      " #   Column          Non-Null Count   Dtype \n",
      "---  ------          --------------   ----- \n",
      " 0   line_id         304348 non-null  object\n",
      " 1   character_id    304348 non-null  object\n",
      " 2   movie_id        304348 non-null  object\n",
      " 3   character_name  304348 non-null  object\n",
      " 4   line_text       304348 non-null  object\n",
      "dtypes: object(5)\n",
      "memory usage: 11.6+ MB\n"
     ]
    }
   ],
   "source": [
    "df1.info()"
   ]
  },
  {
   "cell_type": "code",
   "execution_count": 28,
   "metadata": {},
   "outputs": [],
   "source": [
    "df1.to_csv('cleaned_movie_lines.csv', index=False)"
   ]
  },
  {
   "cell_type": "code",
   "execution_count": 30,
   "metadata": {},
   "outputs": [],
   "source": [
    "df2 = pd.read_csv('C:\\\\MSAAI\\\\AAI-520\\\\Generative_ChatBot_Final\\\\cleaned_movie_lines.csv')"
   ]
  },
  {
   "cell_type": "code",
   "execution_count": 31,
   "metadata": {},
   "outputs": [
    {
     "name": "stdout",
     "output_type": "stream",
     "text": [
      "<class 'pandas.core.frame.DataFrame'>\n",
      "RangeIndex: 304348 entries, 0 to 304347\n",
      "Data columns (total 5 columns):\n",
      " #   Column          Non-Null Count   Dtype \n",
      "---  ------          --------------   ----- \n",
      " 0   line_id         304348 non-null  object\n",
      " 1   character_id    304348 non-null  object\n",
      " 2   movie_id        304348 non-null  object\n",
      " 3   character_name  304348 non-null  object\n",
      " 4   line_text       304348 non-null  object\n",
      "dtypes: object(5)\n",
      "memory usage: 11.6+ MB\n"
     ]
    }
   ],
   "source": [
    "df2.info()"
   ]
  },
  {
   "cell_type": "markdown",
   "metadata": {},
   "source": [
    "-----------------------------------------------------------------------------------------------"
   ]
  },
  {
   "cell_type": "markdown",
   "metadata": {},
   "source": [
    "Function Pool:"
   ]
  },
  {
   "cell_type": "code",
   "execution_count": null,
   "metadata": {},
   "outputs": [],
   "source": [
    "def text_preprocessor(text):\n",
    "    \"\"\"puts text through pre-tokenization preprocessing steps\"\"\"\n",
    "    # Standardizing whitespace:\n",
    "    text = ' '.join(text.split()).replace('\\u00A0', ' ').strip()\n",
    "    \n",
    "    return text \n",
    "\n",
    "\n",
    "def tokenize(text):\n",
    "    \"\"\"Tokenizes text\"\"\"\n",
    "    doc = nlp(text)\n",
    "    return doc\n",
    "\n",
    "df['doc'] = df['line_text'].apply(text_preprocessor).apply(tokenize)\n",
    "\n",
    "def entity_exctractor(doc):\n",
    "    \"\"\"Extracts named entities from the text\"\"\"\n",
    "    entities = [(ent.text, ent.label_) for ent in doc.ents]\n",
    "\n",
    "    return entities\n",
    "\n",
    "df['entities'] = df['doc'].apply(entity_exctractor)\n",
    "\n",
    "\n",
    "def pos_tagger(doc):\n",
    "    \"\"\"Extracts POS tags\"\"\"\n",
    "    pos_tags = [(token.text, token.pos_) for token in doc]\n",
    "    return pos_tags\n",
    "\n",
    "df['pos_tags'] = df['doc'].apply(pos_tagger) "
   ]
  }
 ],
 "metadata": {
  "kernelspec": {
   "display_name": "NLP_TF",
   "language": "python",
   "name": "python3"
  },
  "language_info": {
   "codemirror_mode": {
    "name": "ipython",
    "version": 3
   },
   "file_extension": ".py",
   "mimetype": "text/x-python",
   "name": "python",
   "nbconvert_exporter": "python",
   "pygments_lexer": "ipython3",
   "version": "3.9.18"
  }
 },
 "nbformat": 4,
 "nbformat_minor": 2
}
